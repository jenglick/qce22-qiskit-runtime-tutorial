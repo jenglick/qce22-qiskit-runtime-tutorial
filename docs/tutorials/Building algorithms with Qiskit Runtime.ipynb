{
 "cells": [
  {
   "cell_type": "markdown",
   "metadata": {
    "slideshow": {
     "slide_type": "slide"
    }
   },
   "source": [
    "# Hands-on Demo: Building a variational algorithm to compute ground and excited state of a quantum system\n",
    "\n",
    "Jennifer Glick, IBM Quantum <br>\n",
    "\n",
    "- Variational Quantum Eigensolver (VQE) for the ground state (Estimator primitive) [1]\n",
    "- Varitional Quantum Deflation (VQD) to approximate first excited state (Estimator and Sampler primitive) [1]\n",
    "\n",
    "[1] <br>\n",
    "[2] [arxiv.1805.08138](arxiv.org/abs/1805.08138)\n",
    "\n",
    "\n",
    "\n",
    "\n",
    "\n",
    "\n",
    "\n"
   ]
  },
  {
   "cell_type": "markdown",
   "metadata": {
    "slideshow": {
     "slide_type": "slide"
    }
   },
   "source": [
    "# Let's start by defining our quantum system (Hamiltonian).\n",
    "\n",
    "We could imagine this Hamiltonian represents a molecule. We will find the ground and excited state of this Hamiltonian using VQE and VQD."
   ]
  },
  {
   "cell_type": "code",
   "execution_count": 1,
   "metadata": {
    "slideshow": {
     "slide_type": "-"
    }
   },
   "outputs": [
    {
     "name": "stdout",
     "output_type": "stream",
     "text": [
      "1.0 * XYII\n",
      "+ 2.0 * IYZI\n",
      "+ 3.0 * IIZX\n",
      "+ 4.0 * XIII\n",
      "+ 5.0 * IYII\n"
     ]
    }
   ],
   "source": [
    "# define Hamiltonian\n",
    "\n",
    "from qiskit.opflow import PauliSumOp\n",
    "\n",
    "H = PauliSumOp.from_list([('XYII', 1), ('IYZI', 2), ('IIZX', 3), ('XIII', 4), ('IYII', 5)])\n",
    "print(H)"
   ]
  },
  {
   "cell_type": "markdown",
   "metadata": {
    "slideshow": {
     "slide_type": "slide"
    }
   },
   "source": [
    "# A key ingredient to our approach is to define an ansatz for the state of this quantum system."
   ]
  },
  {
   "cell_type": "code",
   "execution_count": 2,
   "metadata": {
    "slideshow": {
     "slide_type": "-"
    }
   },
   "outputs": [
    {
     "data": {
      "text/html": [
       "<pre style=\"word-wrap: normal;white-space: pre;background: #fff0;line-height: 1.1;font-family: &quot;Courier New&quot;,Courier,monospace\">        ┌──────────┐┌──────────┐                    ┌──────────┐┌───────────┐                           ░ ┌─┐         \n",
       "   q_0: ┤ Ry(θ[0]) ├┤ Rz(θ[4]) ├──■────■─────────■──┤ Ry(θ[8]) ├┤ Rz(θ[12]) ├───────────────────────────░─┤M├─────────\n",
       "        ├──────────┤├──────────┤┌─┴─┐  │         │  └──────────┘└┬──────────┤┌───────────┐              ░ └╥┘┌─┐      \n",
       "   q_1: ┤ Ry(θ[1]) ├┤ Rz(θ[5]) ├┤ X ├──┼────■────┼───────■───────┤ Ry(θ[9]) ├┤ Rz(θ[13]) ├──────────────░──╫─┤M├──────\n",
       "        ├──────────┤├──────────┤└───┘┌─┴─┐┌─┴─┐  │       │       └──────────┘├───────────┤┌───────────┐ ░  ║ └╥┘┌─┐   \n",
       "   q_2: ┤ Ry(θ[2]) ├┤ Rz(θ[6]) ├─────┤ X ├┤ X ├──┼───────┼────────────■──────┤ Ry(θ[10]) ├┤ Rz(θ[14]) ├─░──╫──╫─┤M├───\n",
       "        ├──────────┤├──────────┤     └───┘└───┘┌─┴─┐   ┌─┴─┐        ┌─┴─┐    ├───────────┤├───────────┤ ░  ║  ║ └╥┘┌─┐\n",
       "   q_3: ┤ Ry(θ[3]) ├┤ Rz(θ[7]) ├───────────────┤ X ├───┤ X ├────────┤ X ├────┤ Ry(θ[11]) ├┤ Rz(θ[15]) ├─░──╫──╫──╫─┤M├\n",
       "        └──────────┘└──────────┘               └───┘   └───┘        └───┘    └───────────┘└───────────┘ ░  ║  ║  ║ └╥┘\n",
       "meas: 4/═══════════════════════════════════════════════════════════════════════════════════════════════════╩══╩══╩══╩═\n",
       "                                                                                                           0  1  2  3 </pre>"
      ],
      "text/plain": [
       "        ┌──────────┐┌──────────┐                    ┌──────────┐┌───────────┐                           ░ ┌─┐         \n",
       "   q_0: ┤ Ry(θ[0]) ├┤ Rz(θ[4]) ├──■────■─────────■──┤ Ry(θ[8]) ├┤ Rz(θ[12]) ├───────────────────────────░─┤M├─────────\n",
       "        ├──────────┤├──────────┤┌─┴─┐  │         │  └──────────┘└┬──────────┤┌───────────┐              ░ └╥┘┌─┐      \n",
       "   q_1: ┤ Ry(θ[1]) ├┤ Rz(θ[5]) ├┤ X ├──┼────■────┼───────■───────┤ Ry(θ[9]) ├┤ Rz(θ[13]) ├──────────────░──╫─┤M├──────\n",
       "        ├──────────┤├──────────┤└───┘┌─┴─┐┌─┴─┐  │       │       └──────────┘├───────────┤┌───────────┐ ░  ║ └╥┘┌─┐   \n",
       "   q_2: ┤ Ry(θ[2]) ├┤ Rz(θ[6]) ├─────┤ X ├┤ X ├──┼───────┼────────────■──────┤ Ry(θ[10]) ├┤ Rz(θ[14]) ├─░──╫──╫─┤M├───\n",
       "        ├──────────┤├──────────┤     └───┘└───┘┌─┴─┐   ┌─┴─┐        ┌─┴─┐    ├───────────┤├───────────┤ ░  ║  ║ └╥┘┌─┐\n",
       "   q_3: ┤ Ry(θ[3]) ├┤ Rz(θ[7]) ├───────────────┤ X ├───┤ X ├────────┤ X ├────┤ Ry(θ[11]) ├┤ Rz(θ[15]) ├─░──╫──╫──╫─┤M├\n",
       "        └──────────┘└──────────┘               └───┘   └───┘        └───┘    └───────────┘└───────────┘ ░  ║  ║  ║ └╥┘\n",
       "meas: 4/═══════════════════════════════════════════════════════════════════════════════════════════════════╩══╩══╩══╩═\n",
       "                                                                                                           0  1  2  3 "
      ]
     },
     "execution_count": 2,
     "metadata": {},
     "output_type": "execute_result"
    }
   ],
   "source": [
    "from qiskit.circuit.library import EfficientSU2\n",
    "\n",
    "qc = EfficientSU2(num_qubits=H.num_qubits, reps=1)\n",
    "\n",
    "qc_with_meas = qc.measure_all(inplace=False)\n",
    "qc_with_meas.decompose().draw(fold=120)"
   ]
  },
  {
   "cell_type": "markdown",
   "metadata": {
    "slideshow": {
     "slide_type": "slide"
    }
   },
   "source": [
    "# Before we go on, let's recap basic useage of Sampler and Estimator primitives. We'll do this using the primitives from Qiskit Terra."
   ]
  },
  {
   "cell_type": "markdown",
   "metadata": {
    "slideshow": {
     "slide_type": "slide"
    }
   },
   "source": [
    "## First, let's sample from the ansatz circuit instantiated with random parameter values:"
   ]
  },
  {
   "cell_type": "code",
   "execution_count": 3,
   "metadata": {
    "slideshow": {
     "slide_type": "-"
    }
   },
   "outputs": [],
   "source": [
    "# define a set of (random) parameter values for the ansatz circuit\n",
    "import numpy as np\n",
    "theta = np.random.rand(qc.num_parameters)"
   ]
  },
  {
   "cell_type": "code",
   "execution_count": 4,
   "metadata": {
    "slideshow": {
     "slide_type": "slide"
    }
   },
   "outputs": [
    {
     "name": "stdout",
     "output_type": "stream",
     "text": [
      "SamplerResult(quasi_dists=[{0: 0.2701106582272117, 1: 0.013652293834356854, 2: 0.013998818633940617, 3: 0.003668787639155591, 4: 0.005802996559538281, 5: 0.00035961525295109364, 6: 0.05388865466292148, 7: 0.0031959032057511222, 8: 0.37102026177024705, 9: 0.01751194473117983, 10: 0.05445798023399246, 11: 0.010605162901996546, 12: 0.051939444464084744, 13: 0.0025952227379158537, 14: 0.11607830133070776, 15: 0.011113953814049312}], metadata=[{}])\n"
     ]
    }
   ],
   "source": [
    "# use the Sampler to sample from this circuit\n",
    "from qiskit.primitives import Sampler\n",
    "\n",
    "sampler = Sampler([qc_with_meas])\n",
    "s_result = sampler([qc_with_meas], [theta])\n",
    "print(s_result)"
   ]
  },
  {
   "cell_type": "markdown",
   "metadata": {
    "slideshow": {
     "slide_type": "slide"
    }
   },
   "source": [
    "## Second, let's compute the expectation value of our Hamiltonian with this circuit ansatz:"
   ]
  },
  {
   "cell_type": "code",
   "execution_count": 5,
   "metadata": {
    "slideshow": {
     "slide_type": "-"
    }
   },
   "outputs": [
    {
     "name": "stdout",
     "output_type": "stream",
     "text": [
      "EstimatorResult(values=array([3.98321765]), metadata=[{}])\n"
     ]
    }
   ],
   "source": [
    "from qiskit.primitives import Estimator\n",
    "\n",
    "estimator = Estimator([qc], [H])\n",
    "e_result = estimator([qc], [H], [theta])\n",
    "print(e_result)"
   ]
  },
  {
   "cell_type": "markdown",
   "metadata": {
    "slideshow": {
     "slide_type": "slide"
    }
   },
   "source": [
    "# Okay, now that we've reviewed the primitives, let's go back to our original problem. \n",
    "\n",
    "We'll start by doing an exact calculation of the ground state and first excited state of our Hamiltonian. This will give us a \"classical\" baseline for what to expect with the quantum algorithms."
   ]
  },
  {
   "cell_type": "code",
   "execution_count": 6,
   "metadata": {
    "slideshow": {
     "slide_type": "-"
    }
   },
   "outputs": [
    {
     "name": "stdout",
     "output_type": "stream",
     "text": [
      "[-13.  -9.]\n"
     ]
    }
   ],
   "source": [
    "from qiskit.algorithms import NumPyEigensolver\n",
    "\n",
    "exact_solver = NumPyEigensolver(k=2) # find the first two '2' eigenvalues\n",
    "exact_result = exact_solver.compute_eigenvalues(H)\n",
    "print(exact_result.eigenvalues)"
   ]
  },
  {
   "cell_type": "markdown",
   "metadata": {
    "slideshow": {
     "slide_type": "slide"
    }
   },
   "source": [
    "# The first thing we'll do with the quantum approach is build an algorithm to compute the *ground state*. \n",
    "\n",
    "We'll use the workhorse algorithm called \"variational quantum eigensolver\". And, we'll do it in two ways: custom and using Qiskit interfaces."
   ]
  },
  {
   "cell_type": "markdown",
   "metadata": {
    "slideshow": {
     "slide_type": "slide"
    }
   },
   "source": [
    "## Approach 1. Build a custom VQE\n",
    "\n",
    "We'll need a few ingredients:\n",
    "\n",
    "- a classical optimizer (updates the parameters of our circuit ansatz)\n",
    "- define an objective function to optimize (minimize)"
   ]
  },
  {
   "cell_type": "code",
   "execution_count": 7,
   "metadata": {
    "slideshow": {
     "slide_type": "slide"
    }
   },
   "outputs": [],
   "source": [
    "# instantiate optimizer\n",
    "\n",
    "from qiskit.algorithms.optimizers import SPSA\n",
    "optimizer = SPSA(maxiter=500)"
   ]
  },
  {
   "cell_type": "code",
   "execution_count": 8,
   "metadata": {
    "slideshow": {
     "slide_type": "-"
    }
   },
   "outputs": [],
   "source": [
    "# define objective as expectation value of Hamiltonian with circuit ansatz\n",
    "\n",
    "objective = lambda x: estimator([qc], [H], [x]).values[0]"
   ]
  },
  {
   "cell_type": "code",
   "execution_count": 9,
   "metadata": {
    "scrolled": true,
    "slideshow": {
     "slide_type": "slide"
    }
   },
   "outputs": [
    {
     "name": "stdout",
     "output_type": "stream",
     "text": [
      "-12.999592037798955\n"
     ]
    }
   ],
   "source": [
    "# define initial values for our circuit parameters\n",
    "x0 = np.random.rand(qc.num_parameters)\n",
    "\n",
    "# minimize the objective function\n",
    "result = optimizer.minimize(objective, x0=x0)\n",
    "\n",
    "# store ground state parameters for later\n",
    "ground_state_params = result.x\n",
    "\n",
    "# print the resulting ground state energy\n",
    "print(result.fun)"
   ]
  },
  {
   "cell_type": "markdown",
   "metadata": {
    "slideshow": {
     "slide_type": "-"
    }
   },
   "source": [
    "... remember the exact result was -13, so we got pretty close."
   ]
  },
  {
   "cell_type": "markdown",
   "metadata": {
    "slideshow": {
     "slide_type": "slide"
    }
   },
   "source": [
    "## Approach 2: Build a VQE from Qiskit interfaces\n",
    "\n",
    "In this approach, we will implement Qiskit's `MinimumEigensolver` interface to reuse custom algorithm in Qiskit Applications stack."
   ]
  },
  {
   "cell_type": "code",
   "execution_count": 10,
   "metadata": {},
   "outputs": [],
   "source": [
    "from qiskit.algorithms import MinimumEigensolver, VQEResult"
   ]
  },
  {
   "cell_type": "code",
   "execution_count": 11,
   "metadata": {
    "slideshow": {
     "slide_type": "slide"
    }
   },
   "outputs": [],
   "source": [
    "class CustomVQE(MinimumEigensolver):\n",
    "    \n",
    "    def __init__(self, estimator, circuit, optimizer, callback=None):\n",
    "        self._estimator = estimator\n",
    "        self._circuit = circuit\n",
    "        self._optimizer = optimizer\n",
    "        self._callback = callback\n",
    "        \n",
    "    def compute_minimum_eigenvalue(self, operator, aux_operators=None):\n",
    "                \n",
    "        # define objective\n",
    "        def objective(x):\n",
    "            e_job = self._estimator([self._circuit], [operator], [x])\n",
    "            value = e_job.values[0]\n",
    "            if self._callback:\n",
    "                self._callback(value)\n",
    "            return value\n",
    "            \n",
    "        # run optimization\n",
    "        x0 = np.random.rand(self._circuit.num_parameters)\n",
    "        res = self._optimizer.minimize(objective, x0=x0)\n",
    "        \n",
    "        # populate results\n",
    "        result = VQEResult()\n",
    "        result.cost_function_evals = res.nfev\n",
    "        result.eigenvalue = res.fun\n",
    "        result.optimal_parameters = res.x\n",
    "        return result"
   ]
  },
  {
   "cell_type": "code",
   "execution_count": 12,
   "metadata": {
    "slideshow": {
     "slide_type": "slide"
    }
   },
   "outputs": [
    {
     "name": "stdout",
     "output_type": "stream",
     "text": [
      "{   'aux_operator_eigenvalues': None,\n",
      "    'cost_function_evals': 1000,\n",
      "    'eigenstate': None,\n",
      "    'eigenvalue': -12.594739178931297,\n",
      "    'optimal_parameters': array([-2.48269156e+00,  3.81733512e+00,  1.67894077e+00, -1.57834751e+00,\n",
      "        1.97448787e+00,  3.18116397e-01,  1.72690012e-01, -1.40783565e-02,\n",
      "        1.92415443e+00, -7.94396356e-01, -9.35285186e-02,  2.90058525e-03,\n",
      "       -4.73181349e-01, -7.90030208e-01,  1.74394204e+00, -1.98196970e-02]),\n",
      "    'optimal_point': None,\n",
      "    'optimal_value': None,\n",
      "    'optimizer_evals': None,\n",
      "    'optimizer_time': None}\n"
     ]
    }
   ],
   "source": [
    "# run the custom VQE function\n",
    "custom_vqe = CustomVQE(estimator, qc, optimizer)\n",
    "result = custom_vqe.compute_minimum_eigenvalue(H)\n",
    "print(result)"
   ]
  },
  {
   "cell_type": "markdown",
   "metadata": {
    "slideshow": {
     "slide_type": "slide"
    }
   },
   "source": [
    "# Now that we've solved for the ground state, let's build a quantum algorithm to find the *excited* state.\n",
    "\n",
    "To do this, we'll need a function to evaluate fidelity between the ground state and our guess of the excited state. This is used as a penalty to the original objective function (energy)."
   ]
  },
  {
   "cell_type": "markdown",
   "metadata": {
    "slideshow": {
     "slide_type": "slide"
    }
   },
   "source": [
    "## Step 1: Define a custom state Fidelity function that uses the Sampler primitive"
   ]
  },
  {
   "cell_type": "code",
   "execution_count": 13,
   "metadata": {
    "slideshow": {
     "slide_type": "slide"
    }
   },
   "outputs": [],
   "source": [
    "from qiskit.circuit import ParameterVector\n",
    "\n",
    "class Fidelity():\n",
    "    \n",
    "    def __init__(self, sampler):\n",
    "        \"\"\" Instantiate fidelity estimator. \"\"\"\n",
    "        #self._sampler = sampler\n",
    "        \n",
    "    def run(self, circuit_1, circuit_2, param_values_1, param_values_2):\n",
    "        \"\"\" Estimate fidelity between two states defined by given parameter values.\"\"\"\n",
    "        \n",
    "        # prepare circuit\n",
    "        circuit_1_ = circuit_1.remove_final_measurements(inplace=False)        \n",
    "        circuit_2_ = circuit_2.remove_final_measurements(inplace=False)\n",
    "        x = ParameterVector(\"x\", circuit_1_.num_parameters)\n",
    "        y = ParameterVector(\"y\", circuit_2_.num_parameters)\n",
    "        circuit = circuit_1_.assign_parameters(x).compose(circuit_2_.inverse().assign_parameters(y))\n",
    "        circuit.measure_all()\n",
    "        \n",
    "        # run circuit and get probabilities\n",
    "        param_values = np.append(param_values_1, param_values_2)\n",
    "        sampler = Sampler([circuit])\n",
    "        s_job = sampler([circuit], [param_values])\n",
    "        probabilities = s_job.quasi_dists[0]\n",
    "\n",
    "        # estimate fidelity: |<0|U_1^dag U_2|0>|^2 clipped to [0, 1]\n",
    "        fidelity = np.minimum(1.0, np.maximum(0.0, probabilities.get(0, 0.0)))\n",
    "        return fidelity"
   ]
  },
  {
   "cell_type": "markdown",
   "metadata": {
    "slideshow": {
     "slide_type": "slide"
    }
   },
   "source": [
    "### Let's see what this Fidelity looks between the ground state and a range excited state values."
   ]
  },
  {
   "cell_type": "code",
   "execution_count": 14,
   "metadata": {
    "slideshow": {
     "slide_type": "-"
    }
   },
   "outputs": [],
   "source": [
    "# instantiate fidelity\n",
    "fidelity = Fidelity(sampler)\n",
    "\n",
    "# interpolation between parameters\n",
    "ts = np.linspace(0, 1)\n",
    "fidelities = [fidelity.run(qc, qc, ground_state_params, ground_state_params + t*theta) for t in ts]"
   ]
  },
  {
   "cell_type": "code",
   "execution_count": 15,
   "metadata": {
    "scrolled": false,
    "slideshow": {
     "slide_type": "slide"
    }
   },
   "outputs": [
    {
     "data": {
      "image/png": "[encoded data removed]",
      "text/plain": [
       "<Figure size 800x400 with 1 Axes>"
      ]
     },
     "metadata": {},
     "output_type": "display_data"
    }
   ],
   "source": [
    "# As we crank up the circuit values, the excited state gets \"further\" from the ground state \n",
    "# (fidelity goes down)\n",
    "import matplotlib.pyplot as plt\n",
    "plt.figure(figsize=(8, 4))\n",
    "plt.plot(ts, fidelities)\n",
    "plt.xlabel('t')\n",
    "plt.ylabel('fidelity')\n",
    "plt.show()"
   ]
  },
  {
   "cell_type": "markdown",
   "metadata": {
    "slideshow": {
     "slide_type": "slide"
    }
   },
   "source": [
    "## Step 2: Define a Variational Quantum Deflation (VQD) algorithm\n",
    "\n",
    "Recall that the exact solution gave us an excited state of `-9.0`"
   ]
  },
  {
   "cell_type": "markdown",
   "metadata": {
    "slideshow": {
     "slide_type": "slide"
    }
   },
   "source": [
    "### First, we define an objective function for VQD.\n",
    "\n",
    "Notice that we'll be using the Estimator for the original objective (expectation value of Hamiltonian) PLUS the Sampler to add in the fidelity term. We'll need to set a penalty value for this fidelity contribution."
   ]
  },
  {
   "cell_type": "code",
   "execution_count": 16,
   "metadata": {
    "slideshow": {
     "slide_type": "-"
    }
   },
   "outputs": [],
   "source": [
    "# set penalty weight for overlap term\n",
    "penalty = 25\n",
    "\n",
    "# define objective for VQD\n",
    "vqd_objective = lambda x: objective(x) + penalty*fidelity.run(qc, qc, ground_state_params, x)"
   ]
  },
  {
   "cell_type": "markdown",
   "metadata": {
    "slideshow": {
     "slide_type": "slide"
    }
   },
   "source": [
    "### Next, we minimize our VQD objective"
   ]
  },
  {
   "cell_type": "code",
   "execution_count": 17,
   "metadata": {
    "scrolled": true,
    "slideshow": {
     "slide_type": "-"
    }
   },
   "outputs": [
    {
     "name": "stdout",
     "output_type": "stream",
     "text": [
      "{   'fun': -8.881647989785796,\n",
      "    'jac': None,\n",
      "    'nfev': 1000,\n",
      "    'nit': 500,\n",
      "    'njev': None,\n",
      "    'x': array([-12.55853952,  21.94136364,  12.5190952 ,   2.1198933 ,\n",
      "        20.95442144,  25.66002311,  -4.67002992, -21.71503506,\n",
      "         4.57094725,  12.59195524,  36.03942733,  22.75801307,\n",
      "        28.31739971,  18.67793003, -20.44965165, -15.49843998])}\n"
     ]
    }
   ],
   "source": [
    "# run optimization to get first excited state\n",
    "result = optimizer.minimize(vqd_objective, ground_state_params)\n",
    "print(result)"
   ]
  },
  {
   "cell_type": "markdown",
   "metadata": {
    "slideshow": {
     "slide_type": "slide"
    }
   },
   "source": [
    "### Now that we've minimized the objective, we get a set of optimized circuit parameters. Let's plug these into the Estimator and get the corresponding (excited state) energy."
   ]
  },
  {
   "cell_type": "code",
   "execution_count": 18,
   "metadata": {
    "slideshow": {
     "slide_type": "-"
    }
   },
   "outputs": [
    {
     "name": "stdout",
     "output_type": "stream",
     "text": [
      "EstimatorResult(values=array([-8.88516738]), metadata=[{}])\n"
     ]
    }
   ],
   "source": [
    "# determine energy\n",
    "e_job = estimator([qc], [H], [result.x])\n",
    "print(e_job)"
   ]
  },
  {
   "cell_type": "markdown",
   "metadata": {
    "slideshow": {
     "slide_type": "-"
    }
   },
   "source": [
    "Recall that the exact solution is -9. We got pretty close!"
   ]
  },
  {
   "cell_type": "markdown",
   "metadata": {
    "slideshow": {
     "slide_type": "slide"
    }
   },
   "source": [
    "### Let's see what the overlap (fidelity) of this excited state is with the ground state."
   ]
  },
  {
   "cell_type": "code",
   "execution_count": 19,
   "metadata": {
    "slideshow": {
     "slide_type": "-"
    }
   },
   "outputs": [
    {
     "name": "stdout",
     "output_type": "stream",
     "text": [
      "0.000140775667099545\n"
     ]
    }
   ],
   "source": [
    "fid = fidelity.run(qc, qc, result.x, ground_state_params);\n",
    "print(fid)"
   ]
  },
  {
   "cell_type": "markdown",
   "metadata": {
    "slideshow": {
     "slide_type": "slide"
    }
   },
   "source": [
    "## Just like we saw with VQE, we can build VQD from Qiskit's interfaces.\n",
    "\n",
    "Implement Qiskit's `Eigensolver` interface to reuse custom algorithm in Qiskit Applications stack."
   ]
  },
  {
   "cell_type": "code",
   "execution_count": 20,
   "metadata": {
    "slideshow": {
     "slide_type": "-"
    }
   },
   "outputs": [],
   "source": [
    "from qiskit.algorithms import Eigensolver, EigensolverResult"
   ]
  },
  {
   "cell_type": "code",
   "execution_count": 21,
   "metadata": {
    "slideshow": {
     "slide_type": "slide"
    }
   },
   "outputs": [],
   "source": [
    "class VQD(Eigensolver):\n",
    "    \n",
    "    def __init__(self, estimator, fidelity, circuit, optimizer, penalty=25, callback=None):\n",
    "        \n",
    "        # self._estimator = estimator\n",
    "        self._fidelity = fidelity\n",
    "        self._circuit = circuit\n",
    "        self._optimizer = optimizer\n",
    "        self._penalty = penalty\n",
    "        self._callback = callback\n",
    "        \n",
    "    def compute_eigenvalues(self, operator, aux_operators=None):\n",
    "                \n",
    "        # compute ground state\n",
    "        estimator = Estimator([self._circuit], [operator])\n",
    "        energy = lambda x: estimator([self._circuit], [operator], [x]).values[0]\n",
    "        x0 = np.random.rand(self._circuit.num_parameters)\n",
    "        res_1 = self._optimizer.minimize(energy, x0)\n",
    "\n",
    "        # compute first excited states\n",
    "        overlap = lambda x: self._fidelity.run(self._circuit, self._circuit, res_1.x, x)\n",
    "        def objective(x):\n",
    "            value = energy(x) + self._penalty * overlap(x)\n",
    "            if self._callback:\n",
    "                self._callback(value)\n",
    "            return value\n",
    "        res_2 = self._optimizer.minimize(objective, res_1.x)\n",
    "            \n",
    "        # populate results\n",
    "        result = EigensolverResult()\n",
    "        result.eigenvalues = [estimator([self._circuit], [operator], [res_1.x]),\n",
    "                              estimator([self._circuit], [operator], [res_2.x])]\n",
    "        return result        "
   ]
  },
  {
   "cell_type": "code",
   "execution_count": 22,
   "metadata": {
    "scrolled": true,
    "slideshow": {
     "slide_type": "slide"
    }
   },
   "outputs": [
    {
     "name": "stdout",
     "output_type": "stream",
     "text": [
      "{   'aux_operator_eigenvalues': None,\n",
      "    'eigenstates': None,\n",
      "    'eigenvalues': [   EstimatorResult(values=array([-11.05846049]), metadata=[{}]),\n",
      "                       EstimatorResult(values=array([-11.13702362]), metadata=[{}])]}\n"
     ]
    }
   ],
   "source": [
    "vqd = VQD(estimator, fidelity, qc, optimizer=SPSA(maxiter=1000))\n",
    "result = vqd.compute_eigenvalues(H)\n",
    "print(result)"
   ]
  },
  {
   "cell_type": "markdown",
   "metadata": {
    "slideshow": {
     "slide_type": "slide"
    }
   },
   "source": [
    "## And, finally, let's pull everything together and use the Qiskit Runtime Primitives with Sessions."
   ]
  },
  {
   "cell_type": "code",
   "execution_count": 23,
   "metadata": {
    "slideshow": {
     "slide_type": "-"
    }
   },
   "outputs": [],
   "source": [
    "from qiskit_ibm_runtime import (Session, Options, QiskitRuntimeService,\n",
    "                                Sampler as RuntimeSampler, \n",
    "                                Estimator as RuntimeEstimator)"
   ]
  },
  {
   "cell_type": "code",
   "execution_count": 24,
   "metadata": {
    "slideshow": {
     "slide_type": "-"
    }
   },
   "outputs": [],
   "source": [
    "service = QiskitRuntimeService(channel='ibm_quantum')"
   ]
  },
  {
   "cell_type": "code",
   "execution_count": 26,
   "metadata": {
    "scrolled": true,
    "slideshow": {
     "slide_type": "slide"
    }
   },
   "outputs": [
    {
     "name": "stdout",
     "output_type": "stream",
     "text": [
      "{   'aux_operator_eigenvalues': None,\n",
      "    'eigenstates': None,\n",
      "    'eigenvalues': [   EstimatorResult(values=array([-12.99999527]), metadata=[{}]),\n",
      "                       EstimatorResult(values=array([-6.99950004]), metadata=[{}])]}\n"
     ]
    }
   ],
   "source": [
    "\n",
    "from qiskit.algorithms.optimizers import COBYLA\n",
    "optimizer = COBYLA(maxiter=400)\n",
    "\n",
    "with Session(service=service, backend='ibmq_qasm_simulator') as session:\n",
    "\n",
    "    # prepare primitives\n",
    "    rt_estimator = RuntimeEstimator(session=session)\n",
    "    rt_sampler = RuntimeSampler(session=session)\n",
    "    rt_fidelity = Fidelity(rt_sampler)\n",
    "\n",
    "    # set up algorithm    \n",
    "    rt_vqd = VQD(rt_estimator, rt_fidelity, qc, optimizer)\n",
    "    \n",
    "    # run algorithm\n",
    "    result = rt_vqd.compute_eigenvalues(H)\n",
    "    print(result)    "
   ]
  },
  {
   "cell_type": "code",
   "execution_count": 27,
   "metadata": {
    "slideshow": {
     "slide_type": "skip"
    }
   },
   "outputs": [
    {
     "data": {
      "text/plain": [
       "'0.7.0rc1'"
      ]
     },
     "execution_count": 27,
     "metadata": {},
     "output_type": "execute_result"
    }
   ],
   "source": [
    "import qiskit_ibm_runtime\n",
    "qiskit_ibm_runtime.version.get_version_info()"
   ]
  },
  {
   "cell_type": "code",
   "execution_count": 29,
   "metadata": {
    "slideshow": {
     "slide_type": "skip"
    }
   },
   "outputs": [
    {
     "data": {
      "text/html": [
       "<h3>Version Information</h3><table><tr><th>Qiskit Software</th><th>Version</th></tr><tr><td><code>qiskit-terra</code></td><td>0.21.2</td></tr><tr><th>System information</th></tr><tr><td>Python version</td><td>3.8.13</td></tr><tr><td>Python compiler</td><td>Clang 12.0.0 </td></tr><tr><td>Python build</td><td>default, Mar 28 2022 06:16:26</td></tr><tr><td>OS</td><td>Darwin</td></tr><tr><td>CPUs</td><td>4</td></tr><tr><td>Memory (Gb)</td><td>16.0</td></tr><tr><td colspan='2'>Mon Sep 19 15:54:54 2022 MDT</td></tr></table>"
      ],
      "text/plain": [
       "<IPython.core.display.HTML object>"
      ]
     },
     "metadata": {},
     "output_type": "display_data"
    },
    {
     "data": {
      "text/html": [
       "<div style='width: 100%; background-color:#d5d9e0;padding-left: 10px; padding-bottom: 10px; padding-right: 10px; padding-top: 5px'><h3>This code is a part of Qiskit</h3><p>&copy; Copyright IBM 2017, 2022.</p><p>This code is licensed under the Apache License, Version 2.0. You may<br>obtain a copy of this license in the LICENSE.txt file in the root directory<br> of this source tree or at http://www.apache.org/licenses/LICENSE-2.0.<p>Any modifications or derivative works of this code must retain this<br>copyright notice, and modified files need to carry a notice indicating<br>that they have been altered from the originals.</p></div>"
      ],
      "text/plain": [
       "<IPython.core.display.HTML object>"
      ]
     },
     "metadata": {},
     "output_type": "display_data"
    }
   ],
   "source": [
    "from qiskit.tools.jupyter import *\n",
    "\n",
    "%qiskit_version_table\n",
    "%qiskit_copyright"
   ]
  }
 ],
 "metadata": {
  "celltoolbar": "Slideshow",
  "kernelspec": {
   "display_name": "Python 3 (ipykernel)",
   "language": "python",
   "name": "python3"
  },
  "language_info": {
   "codemirror_mode": {
    "name": "ipython",
    "version": 3
   },
   "file_extension": ".py",
   "mimetype": "text/x-python",
   "name": "python",
   "nbconvert_exporter": "python",
   "pygments_lexer": "ipython3",
   "version": "3.8.13"
  }
 },
 "nbformat": 4,
 "nbformat_minor": 2
}
