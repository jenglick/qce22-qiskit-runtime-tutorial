{
 "cells": [
  {
   "cell_type": "markdown",
   "metadata": {
    "slideshow": {
     "slide_type": "slide"
    }
   },
   "source": [
    "# Qiskit Runtime Tutorial, Hands-on Demo: \n",
    "\n",
    "How to use Qiskit Runtime to build an algorithm for approximating the ground and excited state of a quantum system.\n",
    "\n",
    "Jennifer Glick, IBM Quantum <br>\n"
   ]
  },
  {
   "cell_type": "markdown",
   "metadata": {
    "slideshow": {
     "slide_type": "slide"
    }
   },
   "source": [
    "## 1. Ground State Calculation\n",
    "\n",
    "In the first part of this demo, we will use the Variational Quantum Eigensolver (VQE) to approximate the ground state of a quantum system [1,2].\n",
    "\n",
    "VQE is based on the variational principle of quantum mechanics. It constructs the approximate ground state by iteratively tuning a parametrized quantum circuit to minimize the energy expectation value of the Hamiltonian:\n",
    "\n",
    "For a Hamiltonian $H = \\sum_j c_j P_j$ (with Pauli operators $P_j \\in \\{I, X, Y, Z\\}$), the expectation value can be written as:\n",
    "\n",
    "$$\n",
    "  E(\\lambda) = \\langle \\psi(\\lambda)|H|\\psi(\\lambda)\\rangle = \\sum_j c_j \\langle \\psi(\\lambda)|P_j|\\psi(\\lambda)\\rangle. ~~~~ (1)\n",
    "$$\n",
    "\n",
    "The quantum computer is used to prepare a variational trial state $|\\psi(\\lambda)\\rangle$ that depends on the set of parameters $\\lambda$. Then, the expectation value of the energy is estimated and used by a\n",
    "classical optimizer to generate a new set of improved parameters.\n",
    "\n",
    "This algorithm uses the Estimator primitive to evaluate the expectation value of the Hamiltonian (energy)."
   ]
  },
  {
   "cell_type": "markdown",
   "metadata": {
    "slideshow": {
     "slide_type": "slide"
    }
   },
   "source": [
    "## 2. Excited State Calculation\n",
    "\n",
    "In the second half of this demo, we will use the Varitional Quantum Deflation (VQD) algorithm [3] to approximate the first excited state of our quantum system.\n",
    "\n",
    "The basic idea of VQD is to amend the cost function of VQE (1) with a constraint that the first excited state be orthogonal to the ground state:\n",
    "\n",
    "$$\n",
    "  E(\\lambda_1) = \\langle \\psi(\\lambda_1)|H|\\psi(\\lambda_1)\\rangle + \\beta ~ |\\langle \\psi(\\lambda_1) | \\psi(\\lambda_0)\\rangle|^2. ~~~~ (2)\n",
    "$$\n",
    "\n",
    "This constraint is a \"fidelity\" and is given a penalty $\\beta$. Now, we have the parameters $\\lambda_0$ found from the ground state calculation, together with the new parameters $\\lambda_1$ we will optimize for the first excited state. This approach can be generalized to higher states. \n",
    "\n",
    "VQD uses the Estimator (for the expectation value of Hamiltonian) and Sampler (for the fidelity) primitives."
   ]
  },
  {
   "cell_type": "markdown",
   "metadata": {
    "slideshow": {
     "slide_type": "slide"
    }
   },
   "source": [
    "Please refer to the papers below for more details behind VQE and VQD algorithms. \n",
    "\n",
    "[1] [Nat. Comms. 5, 4213 (2014)](https://www.nature.com/articles/ncomms5213) <br>\n",
    "[2] [Nature 549, 242 (2017)](https://www.nature.com/articles/nature23879?sf114016447=1) <br>\n",
    "[3] [Quantum 3, 156 (2019)](https://doi.org/10.22331/q-2019-07-01-156)"
   ]
  },
  {
   "cell_type": "markdown",
   "metadata": {
    "slideshow": {
     "slide_type": "slide"
    }
   },
   "source": [
    "# Let's start by defining our quantum system (Hamiltonian).\n",
    "\n",
    "We could imagine this Hamiltonian represents a molecule. We will find the ground and excited state of this Hamiltonian using VQE and VQD."
   ]
  },
  {
   "cell_type": "code",
   "execution_count": 1,
   "metadata": {
    "slideshow": {
     "slide_type": "-"
    }
   },
   "outputs": [
    {
     "name": "stdout",
     "output_type": "stream",
     "text": [
      "1.0 * XYII\n",
      "+ 2.0 * IYZI\n",
      "+ 3.0 * IIZX\n",
      "+ 4.0 * XIII\n",
      "+ 5.0 * IYII\n"
     ]
    }
   ],
   "source": [
    "# define Hamiltonian\n",
    "from qiskit.opflow import PauliSumOp\n",
    "H = PauliSumOp.from_list([('XYII', 1), ('IYZI', 2), ('IIZX', 3), ('XIII', 4), ('IYII', 5)])\n",
    "\n",
    "print(H)"
   ]
  },
  {
   "cell_type": "markdown",
   "metadata": {
    "slideshow": {
     "slide_type": "slide"
    }
   },
   "source": [
    "# A key ingredient to our approach is to define an ansatz for the state of this quantum system."
   ]
  },
  {
   "cell_type": "code",
   "execution_count": 2,
   "metadata": {
    "slideshow": {
     "slide_type": "-"
    }
   },
   "outputs": [
    {
     "data": {
      "text/html": [
       "<pre style=\"word-wrap: normal;white-space: pre;background: #fff0;line-height: 1.1;font-family: &quot;Courier New&quot;,Courier,monospace\">        ┌──────────┐┌──────────┐                    ┌──────────┐┌───────────┐                           ░ ┌─┐         \n",
       "   q_0: ┤ Ry(θ[0]) ├┤ Rz(θ[4]) ├──■────■─────────■──┤ Ry(θ[8]) ├┤ Rz(θ[12]) ├───────────────────────────░─┤M├─────────\n",
       "        ├──────────┤├──────────┤┌─┴─┐  │         │  └──────────┘└┬──────────┤┌───────────┐              ░ └╥┘┌─┐      \n",
       "   q_1: ┤ Ry(θ[1]) ├┤ Rz(θ[5]) ├┤ X ├──┼────■────┼───────■───────┤ Ry(θ[9]) ├┤ Rz(θ[13]) ├──────────────░──╫─┤M├──────\n",
       "        ├──────────┤├──────────┤└───┘┌─┴─┐┌─┴─┐  │       │       └──────────┘├───────────┤┌───────────┐ ░  ║ └╥┘┌─┐   \n",
       "   q_2: ┤ Ry(θ[2]) ├┤ Rz(θ[6]) ├─────┤ X ├┤ X ├──┼───────┼────────────■──────┤ Ry(θ[10]) ├┤ Rz(θ[14]) ├─░──╫──╫─┤M├───\n",
       "        ├──────────┤├──────────┤     └───┘└───┘┌─┴─┐   ┌─┴─┐        ┌─┴─┐    ├───────────┤├───────────┤ ░  ║  ║ └╥┘┌─┐\n",
       "   q_3: ┤ Ry(θ[3]) ├┤ Rz(θ[7]) ├───────────────┤ X ├───┤ X ├────────┤ X ├────┤ Ry(θ[11]) ├┤ Rz(θ[15]) ├─░──╫──╫──╫─┤M├\n",
       "        └──────────┘└──────────┘               └───┘   └───┘        └───┘    └───────────┘└───────────┘ ░  ║  ║  ║ └╥┘\n",
       "meas: 4/═══════════════════════════════════════════════════════════════════════════════════════════════════╩══╩══╩══╩═\n",
       "                                                                                                           0  1  2  3 </pre>"
      ],
      "text/plain": [
       "        ┌──────────┐┌──────────┐                    ┌──────────┐┌───────────┐                           ░ ┌─┐         \n",
       "   q_0: ┤ Ry(θ[0]) ├┤ Rz(θ[4]) ├──■────■─────────■──┤ Ry(θ[8]) ├┤ Rz(θ[12]) ├───────────────────────────░─┤M├─────────\n",
       "        ├──────────┤├──────────┤┌─┴─┐  │         │  └──────────┘└┬──────────┤┌───────────┐              ░ └╥┘┌─┐      \n",
       "   q_1: ┤ Ry(θ[1]) ├┤ Rz(θ[5]) ├┤ X ├──┼────■────┼───────■───────┤ Ry(θ[9]) ├┤ Rz(θ[13]) ├──────────────░──╫─┤M├──────\n",
       "        ├──────────┤├──────────┤└───┘┌─┴─┐┌─┴─┐  │       │       └──────────┘├───────────┤┌───────────┐ ░  ║ └╥┘┌─┐   \n",
       "   q_2: ┤ Ry(θ[2]) ├┤ Rz(θ[6]) ├─────┤ X ├┤ X ├──┼───────┼────────────■──────┤ Ry(θ[10]) ├┤ Rz(θ[14]) ├─░──╫──╫─┤M├───\n",
       "        ├──────────┤├──────────┤     └───┘└───┘┌─┴─┐   ┌─┴─┐        ┌─┴─┐    ├───────────┤├───────────┤ ░  ║  ║ └╥┘┌─┐\n",
       "   q_3: ┤ Ry(θ[3]) ├┤ Rz(θ[7]) ├───────────────┤ X ├───┤ X ├────────┤ X ├────┤ Ry(θ[11]) ├┤ Rz(θ[15]) ├─░──╫──╫──╫─┤M├\n",
       "        └──────────┘└──────────┘               └───┘   └───┘        └───┘    └───────────┘└───────────┘ ░  ║  ║  ║ └╥┘\n",
       "meas: 4/═══════════════════════════════════════════════════════════════════════════════════════════════════╩══╩══╩══╩═\n",
       "                                                                                                           0  1  2  3 "
      ]
     },
     "execution_count": 2,
     "metadata": {},
     "output_type": "execute_result"
    }
   ],
   "source": [
    "from qiskit.circuit.library import EfficientSU2\n",
    "\n",
    "qc = EfficientSU2(num_qubits=H.num_qubits, reps=1)\n",
    "\n",
    "qc_with_meas = qc.measure_all(inplace=False)\n",
    "qc_with_meas.decompose().draw(fold=120)"
   ]
  },
  {
   "cell_type": "markdown",
   "metadata": {
    "slideshow": {
     "slide_type": "slide"
    }
   },
   "source": [
    "# Before we go on, let's recap basic usage of Sampler and Estimator primitives. \n",
    "\n",
    "We'll do this using the primitives from Qiskit Terra."
   ]
  },
  {
   "cell_type": "markdown",
   "metadata": {
    "slideshow": {
     "slide_type": "slide"
    }
   },
   "source": [
    "## First, let's sample from the ansatz circuit instantiated with random parameter values:"
   ]
  },
  {
   "cell_type": "code",
   "execution_count": 3,
   "metadata": {
    "slideshow": {
     "slide_type": "-"
    }
   },
   "outputs": [],
   "source": [
    "# define a set of (random) parameter values for the ansatz circuit\n",
    "import numpy as np\n",
    "theta = np.random.rand(qc.num_parameters)"
   ]
  },
  {
   "cell_type": "code",
   "execution_count": 4,
   "metadata": {
    "slideshow": {
     "slide_type": "-"
    }
   },
   "outputs": [
    {
     "name": "stdout",
     "output_type": "stream",
     "text": [
      "SamplerResult(quasi_dists=[{0: 0.28655732047238786, 1: 0.004235901450044583, 2: 0.030404492139371825, 3: 0.02910461418884707, 4: 0.0019105519952925685, 5: 0.003505112588231215, 6: 0.05515279324465394, 7: 0.00384883515350833, 8: 0.35909363640180364, 9: 0.003751539549075998, 10: 0.055935651312886935, 11: 0.04233613759695276, 12: 0.005341258016301781, 13: 0.004689787250918058, 14: 0.10226997877729582, 15: 0.011862389862427655}], metadata=[{}])\n"
     ]
    }
   ],
   "source": [
    "# use the Sampler to sample from this circuit\n",
    "from qiskit.primitives import Sampler\n",
    "\n",
    "sampler = Sampler([qc_with_meas])\n",
    "s_result = sampler([qc_with_meas], [theta])\n",
    "print(s_result)"
   ]
  },
  {
   "cell_type": "markdown",
   "metadata": {
    "slideshow": {
     "slide_type": "slide"
    }
   },
   "source": [
    "## Second, let's compute the expectation value of our Hamiltonian with this circuit ansatz and parameter values:"
   ]
  },
  {
   "cell_type": "code",
   "execution_count": 5,
   "metadata": {
    "slideshow": {
     "slide_type": "-"
    }
   },
   "outputs": [
    {
     "name": "stdout",
     "output_type": "stream",
     "text": [
      "EstimatorResult(values=array([3.08405942]), metadata=[{}])\n"
     ]
    }
   ],
   "source": [
    "from qiskit.primitives import Estimator\n",
    "\n",
    "estimator = Estimator([qc], [H])\n",
    "e_result = estimator([qc], [H], [theta])\n",
    "print(e_result)"
   ]
  },
  {
   "cell_type": "markdown",
   "metadata": {
    "slideshow": {
     "slide_type": "slide"
    }
   },
   "source": [
    "# Okay, now that we've reviewed the primitives, let's go back to our original problem. \n",
    "\n",
    "We'll start by doing an exact calculation of the ground state and first excited state of our Hamiltonian. This will give us a \"classical\" baseline for what to expect with the quantum algorithms."
   ]
  },
  {
   "cell_type": "code",
   "execution_count": 6,
   "metadata": {
    "slideshow": {
     "slide_type": "-"
    }
   },
   "outputs": [
    {
     "name": "stdout",
     "output_type": "stream",
     "text": [
      "[-13.  -9.]\n"
     ]
    }
   ],
   "source": [
    "from qiskit.algorithms import NumPyEigensolver\n",
    "\n",
    "exact_solver = NumPyEigensolver(k=2) # find the first two '2' eigenvalues\n",
    "exact_result = exact_solver.compute_eigenvalues(H)\n",
    "print(exact_result.eigenvalues)"
   ]
  },
  {
   "cell_type": "markdown",
   "metadata": {
    "slideshow": {
     "slide_type": "-"
    }
   },
   "source": [
    "This means the ground state has an energy of `-13` while the first excited state is `-9`."
   ]
  },
  {
   "cell_type": "markdown",
   "metadata": {
    "slideshow": {
     "slide_type": "slide"
    }
   },
   "source": [
    "# The first thing we'll do with the quantum approach is build an algorithm to compute the *ground state*. \n",
    "\n",
    "We'll use the workhorse algorithm called \"variational quantum eigensolver\". And, we'll do it in two ways: custom and using Qiskit interfaces."
   ]
  },
  {
   "cell_type": "markdown",
   "metadata": {
    "slideshow": {
     "slide_type": "slide"
    }
   },
   "source": [
    "## Approach 1. Build a custom VQE\n",
    "\n",
    "We'll need a few ingredients:\n",
    "\n",
    "- Hamiltonian (already defined)\n",
    "- Quantum circuit ansatz (already defined)\n",
    "- Objective function to optimize (minimize)\n",
    "- Classical optimizer for that objective function (updates parameters of our circuit ansatz)\n"
   ]
  },
  {
   "cell_type": "code",
   "execution_count": 7,
   "metadata": {
    "slideshow": {
     "slide_type": "slide"
    }
   },
   "outputs": [],
   "source": [
    "# define objective as expectation value of Hamiltonian with circuit ansatz\n",
    "\n",
    "objective = lambda x: estimator([qc], [H], [x]).values[0]"
   ]
  },
  {
   "cell_type": "code",
   "execution_count": 8,
   "metadata": {
    "slideshow": {
     "slide_type": "-"
    }
   },
   "outputs": [],
   "source": [
    "# instantiate optimizer\n",
    "\n",
    "from qiskit.algorithms.optimizers import SPSA\n",
    "optimizer = SPSA(maxiter=500)"
   ]
  },
  {
   "cell_type": "markdown",
   "metadata": {
    "slideshow": {
     "slide_type": "slide"
    }
   },
   "source": [
    "Now, we can pass our objective function to the classical optimizer to find an approximate solution."
   ]
  },
  {
   "cell_type": "code",
   "execution_count": 9,
   "metadata": {
    "scrolled": true,
    "slideshow": {
     "slide_type": "-"
    }
   },
   "outputs": [
    {
     "name": "stdout",
     "output_type": "stream",
     "text": [
      "-12.99696622905941\n"
     ]
    }
   ],
   "source": [
    "# define initial values for our circuit parameters\n",
    "x0 = np.random.rand(qc.num_parameters)\n",
    "\n",
    "# minimize the objective function\n",
    "result = optimizer.minimize(objective, x0=x0)\n",
    "\n",
    "# store ground state parameters for later\n",
    "ground_state_params = result.x\n",
    "\n",
    "# print the resulting ground state energy\n",
    "print(result.fun)"
   ]
  },
  {
   "cell_type": "markdown",
   "metadata": {
    "slideshow": {
     "slide_type": "-"
    }
   },
   "source": [
    "... remember the exact ground state energy is `-13`, so we got pretty close."
   ]
  },
  {
   "cell_type": "markdown",
   "metadata": {
    "slideshow": {
     "slide_type": "slide"
    }
   },
   "source": [
    "## Approach 2: Build a VQE from Qiskit interfaces\n",
    "\n",
    "In this approach, we will implement Qiskit's `MinimumEigensolver` interface to reuse custom algorithm in Qiskit Applications stack."
   ]
  },
  {
   "cell_type": "code",
   "execution_count": 10,
   "metadata": {},
   "outputs": [],
   "source": [
    "from qiskit.algorithms import MinimumEigensolver, VQEResult"
   ]
  },
  {
   "cell_type": "code",
   "execution_count": 11,
   "metadata": {
    "slideshow": {
     "slide_type": "slide"
    }
   },
   "outputs": [],
   "source": [
    "class CustomVQE(MinimumEigensolver):\n",
    "    \n",
    "    def __init__(self, estimator, circuit, optimizer, callback=None):\n",
    "        self._estimator = estimator\n",
    "        self._circuit = circuit\n",
    "        self._optimizer = optimizer\n",
    "        self._callback = callback\n",
    "        \n",
    "    def compute_minimum_eigenvalue(self, operator, aux_operators=None):\n",
    "                \n",
    "        # define objective\n",
    "        def objective(x):\n",
    "            e_job = self._estimator([self._circuit], [operator], [x])\n",
    "            value = e_job.values[0]\n",
    "            if self._callback:\n",
    "                self._callback(value)\n",
    "            return value\n",
    "            \n",
    "        # run optimization\n",
    "        x0 = np.random.rand(self._circuit.num_parameters)\n",
    "        res = self._optimizer.minimize(objective, x0=x0)\n",
    "        \n",
    "        # populate results\n",
    "        result = VQEResult()\n",
    "        result.cost_function_evals = res.nfev\n",
    "        result.eigenvalue = res.fun\n",
    "        result.optimal_parameters = res.x\n",
    "        return result"
   ]
  },
  {
   "cell_type": "code",
   "execution_count": 12,
   "metadata": {
    "slideshow": {
     "slide_type": "slide"
    }
   },
   "outputs": [
    {
     "name": "stdout",
     "output_type": "stream",
     "text": [
      "{   'aux_operator_eigenvalues': None,\n",
      "    'cost_function_evals': 1000,\n",
      "    'eigenstate': None,\n",
      "    'eigenvalue': -11.640378588788781,\n",
      "    'optimal_parameters': array([ 0.94271957,  0.00364561,  0.02017485, -0.65580158, -0.49244258,\n",
      "       -0.4660229 ,  0.92070473, -0.2139324 , -0.83602395,  0.66502658,\n",
      "       -1.54025297, -0.96863114,  0.33700902,  0.97889973,  1.55573118,\n",
      "        0.09858469]),\n",
      "    'optimal_point': None,\n",
      "    'optimal_value': None,\n",
      "    'optimizer_evals': None,\n",
      "    'optimizer_time': None}\n"
     ]
    }
   ],
   "source": [
    "# run the custom VQE function\n",
    "custom_vqe = CustomVQE(estimator, qc, optimizer)\n",
    "result = custom_vqe.compute_minimum_eigenvalue(H)\n",
    "print(result)"
   ]
  },
  {
   "cell_type": "markdown",
   "metadata": {
    "slideshow": {
     "slide_type": "slide"
    }
   },
   "source": [
    "# Now that we've solved for the ground state, let's build a quantum algorithm to find the *excited* state.\n",
    "\n",
    "To do this, recall that we'll need a function to evaluate **fidelity** between the ground state and our guess of the excited state. This is used as a penalty to the original objective function (energy):\n",
    "\n",
    "$$\n",
    "  E(\\lambda_1) = \\langle \\psi(\\lambda_1)|H|\\psi(\\lambda_1)\\rangle + \\beta ~ |\\langle \\psi(\\lambda_1) | \\psi(\\lambda_0)\\rangle|^2\n",
    "$$\n",
    "\n",
    "We'll calculate the fidelity $f$ like this:\n",
    "\n",
    "$$\n",
    "f = |\\langle \\psi(\\lambda_1) | \\psi(\\lambda_0)\\rangle|^2 = |\\langle 0 | U^\\dagger_{\\lambda_1} U_{\\lambda_0} | 0 \\rangle|^2.\n",
    "$$\n",
    "\n",
    "In other words, prepare the ansatz circuit with ground state parameters $\\lambda_0$ and compose with the inverse ansatz circuit with new (unknown) parameters $\\lambda_1$. Then, measure the composite state and record the probability of observing the all-zero bitstring.\n",
    "\n",
    "We can do this with the Sampler primitive."
   ]
  },
  {
   "cell_type": "markdown",
   "metadata": {
    "slideshow": {
     "slide_type": "slide"
    }
   },
   "source": [
    "## Step 1: Define a custom state Fidelity function that uses the Sampler primitive"
   ]
  },
  {
   "cell_type": "code",
   "execution_count": 13,
   "metadata": {
    "slideshow": {
     "slide_type": "slide"
    }
   },
   "outputs": [],
   "source": [
    "from qiskit.circuit import ParameterVector\n",
    "\n",
    "class Fidelity():\n",
    "    \n",
    "    def __init__(self, sampler):\n",
    "        \"\"\" Instantiate fidelity estimator. \"\"\"\n",
    "        #self._sampler = sampler\n",
    "        \n",
    "    def run(self, circuit_1, circuit_2, param_values_1, param_values_2):\n",
    "        \"\"\" Estimate fidelity between two states defined by given parameter values.\"\"\"\n",
    "        \n",
    "        # prepare circuit\n",
    "        circuit_1_ = circuit_1.remove_final_measurements(inplace=False)        \n",
    "        circuit_2_ = circuit_2.remove_final_measurements(inplace=False)\n",
    "        x = ParameterVector(\"x\", circuit_1_.num_parameters)\n",
    "        y = ParameterVector(\"y\", circuit_2_.num_parameters)\n",
    "        circuit = circuit_1_.assign_parameters(x).compose(circuit_2_.inverse().assign_parameters(y))\n",
    "        circuit.measure_all()\n",
    "        \n",
    "        # run circuit and get probabilities\n",
    "        param_values = np.append(param_values_1, param_values_2)\n",
    "        sampler = Sampler([circuit])\n",
    "        s_job = sampler([circuit], [param_values])\n",
    "        probabilities = s_job.quasi_dists[0]\n",
    "\n",
    "        # estimate fidelity: |<0|U_1^dag U_2|0>|^2 clipped to [0, 1]\n",
    "        fidelity = np.minimum(1.0, np.maximum(0.0, probabilities.get(0, 0.0)))\n",
    "        return fidelity"
   ]
  },
  {
   "cell_type": "markdown",
   "metadata": {
    "slideshow": {
     "slide_type": "slide"
    }
   },
   "source": [
    "### Let's see what this Fidelity looks like between the ground state and excited state for a range excited state circuit parameter values.\n",
    "\n",
    "We'll define these parameter values to start from the previously found ground state parameters, `ground_state_params`, and then linearly increase."
   ]
  },
  {
   "cell_type": "code",
   "execution_count": 14,
   "metadata": {
    "slideshow": {
     "slide_type": "-"
    }
   },
   "outputs": [],
   "source": [
    "# instantiate fidelity\n",
    "fidelity = Fidelity(sampler)\n",
    "\n",
    "# interpolation between parameters\n",
    "ts = np.linspace(0, 1)\n",
    "fidelities = [fidelity.run(qc, qc, ground_state_params, ground_state_params + t*theta) for t in ts]"
   ]
  },
  {
   "cell_type": "code",
   "execution_count": 15,
   "metadata": {
    "scrolled": false,
    "slideshow": {
     "slide_type": "slide"
    }
   },
   "outputs": [
    {
     "data": {
      "image/png": "[encoded data removed]",
      "text/plain": [
       "<Figure size 800x400 with 1 Axes>"
      ]
     },
     "metadata": {},
     "output_type": "display_data"
    }
   ],
   "source": [
    "import matplotlib.pyplot as plt\n",
    "plt.figure(figsize=(8, 4))\n",
    "plt.plot(ts, fidelities)\n",
    "plt.xlabel('t', fontsize=20)\n",
    "plt.ylabel('fidelity', fontsize=20)\n",
    "plt.show()"
   ]
  },
  {
   "cell_type": "markdown",
   "metadata": {
    "slideshow": {
     "slide_type": "-"
    }
   },
   "source": [
    "At `t=0`, the circuit parameters equal the ground state parameters, so the fidelity is\n",
    "\n",
    "$$\n",
    "f(t=0) = |\\langle \\psi(\\lambda_0) | \\psi(\\lambda_0)\\rangle|^2 = |\\langle 0 | U^\\dagger_{\\lambda_0} U_{\\lambda_0} | 0 \\rangle|^2 = 1.\n",
    "$$\n",
    "\n",
    "As `t` increases, we move further from the ground state, and the fidelity decreases."
   ]
  },
  {
   "cell_type": "markdown",
   "metadata": {
    "slideshow": {
     "slide_type": "slide"
    }
   },
   "source": [
    "## Step 2: Define a Variational Quantum Deflation (VQD) algorithm\n",
    "\n",
    "Recall that the exact solution gave us an excited state energy of `-9.0`"
   ]
  },
  {
   "cell_type": "markdown",
   "metadata": {
    "slideshow": {
     "slide_type": "slide"
    }
   },
   "source": [
    "### First, we define an objective function for VQD.\n",
    "\n",
    "Notice that we'll be using the Estimator for the original objective (expectation value of Hamiltonian) PLUS the Sampler to add in the fidelity term. We'll need to set a penalty $\\beta$ for this fidelity contribution.\n",
    "\n",
    "$$\n",
    "  E(\\lambda_1) = \\langle \\psi(\\lambda_1)|H|\\psi(\\lambda_1)\\rangle + \\beta ~ |\\langle \\psi(\\lambda_1) | \\psi(\\lambda_0)\\rangle|^2\n",
    "$$"
   ]
  },
  {
   "cell_type": "code",
   "execution_count": 16,
   "metadata": {
    "slideshow": {
     "slide_type": "-"
    }
   },
   "outputs": [],
   "source": [
    "# set penalty weight for overlap term\n",
    "penalty = 25\n",
    "\n",
    "# define objective for VQD\n",
    "vqd_objective = lambda x: objective(x) + penalty*fidelity.run(qc, qc, ground_state_params, x)"
   ]
  },
  {
   "cell_type": "markdown",
   "metadata": {
    "slideshow": {
     "slide_type": "slide"
    }
   },
   "source": [
    "### Next, we minimize our VQD objective"
   ]
  },
  {
   "cell_type": "code",
   "execution_count": 17,
   "metadata": {
    "scrolled": true,
    "slideshow": {
     "slide_type": "-"
    }
   },
   "outputs": [
    {
     "name": "stdout",
     "output_type": "stream",
     "text": [
      "{   'fun': -8.981815894508062,\n",
      "    'jac': None,\n",
      "    'nfev': 1000,\n",
      "    'nit': 500,\n",
      "    'njev': None,\n",
      "    'x': array([ -3.13426295,  -3.14253715,  -6.28012314,   7.40274703,\n",
      "         0.72579202,  27.20911057,  16.18476322,   1.95247083,\n",
      "       -14.14898446,  -3.11917595, -29.84882787,  -4.03535317,\n",
      "        -6.2590266 ,  15.78496767,  -4.73964622,   8.4574566 ])}\n"
     ]
    }
   ],
   "source": [
    "# run optimization to get first excited state\n",
    "result = optimizer.minimize(vqd_objective, ground_state_params)\n",
    "print(result)"
   ]
  },
  {
   "cell_type": "markdown",
   "metadata": {
    "slideshow": {
     "slide_type": "slide"
    }
   },
   "source": [
    "### Now that we've minimized the objective, we get a set of optimized circuit parameters for the exicted state. \n",
    "\n",
    "Let's plug these into the Estimator and get the corresponding (excited state) energy."
   ]
  },
  {
   "cell_type": "code",
   "execution_count": 18,
   "metadata": {
    "slideshow": {
     "slide_type": "-"
    }
   },
   "outputs": [
    {
     "name": "stdout",
     "output_type": "stream",
     "text": [
      "EstimatorResult(values=array([-8.99704619]), metadata=[{}])\n"
     ]
    }
   ],
   "source": [
    "# determine energy\n",
    "e_job = estimator([qc], [H], [result.x])\n",
    "print(e_job)"
   ]
  },
  {
   "cell_type": "markdown",
   "metadata": {
    "slideshow": {
     "slide_type": "-"
    }
   },
   "source": [
    "Recall that the exact energy of the first excited state is `-9`. We got pretty close!"
   ]
  },
  {
   "cell_type": "markdown",
   "metadata": {
    "slideshow": {
     "slide_type": "slide"
    }
   },
   "source": [
    "### Let's see what the overlap (fidelity) of this excited state is with the ground state.\n",
    "\n",
    "Recall that these two states *should* be orthogonal (zero overlap)."
   ]
  },
  {
   "cell_type": "code",
   "execution_count": 19,
   "metadata": {
    "slideshow": {
     "slide_type": "-"
    }
   },
   "outputs": [
    {
     "name": "stdout",
     "output_type": "stream",
     "text": [
      "0.0006092119169222686\n"
     ]
    }
   ],
   "source": [
    "fid = fidelity.run(qc, qc, result.x, ground_state_params);\n",
    "print(fid)"
   ]
  },
  {
   "cell_type": "markdown",
   "metadata": {
    "slideshow": {
     "slide_type": "slide"
    }
   },
   "source": [
    "## Just like we saw with VQE, we can build VQD from Qiskit's interfaces.\n",
    "\n",
    "Implement Qiskit's `Eigensolver` interface to reuse custom algorithm in Qiskit Applications stack."
   ]
  },
  {
   "cell_type": "code",
   "execution_count": 20,
   "metadata": {
    "slideshow": {
     "slide_type": "-"
    }
   },
   "outputs": [],
   "source": [
    "from qiskit.algorithms import Eigensolver, EigensolverResult"
   ]
  },
  {
   "cell_type": "code",
   "execution_count": 21,
   "metadata": {
    "slideshow": {
     "slide_type": "slide"
    }
   },
   "outputs": [],
   "source": [
    "class VQD(Eigensolver):\n",
    "    \n",
    "    def __init__(self, estimator, fidelity, circuit, optimizer, penalty=25, callback=None):\n",
    "        \n",
    "        # self._estimator = estimator\n",
    "        self._fidelity = fidelity\n",
    "        self._circuit = circuit\n",
    "        self._optimizer = optimizer\n",
    "        self._penalty = penalty\n",
    "        self._callback = callback\n",
    "        \n",
    "    def compute_eigenvalues(self, operator, aux_operators=None):\n",
    "                \n",
    "        # compute ground state\n",
    "        estimator = Estimator([self._circuit], [operator])\n",
    "        energy = lambda x: estimator([self._circuit], [operator], [x]).values[0]\n",
    "        x0 = np.random.rand(self._circuit.num_parameters)\n",
    "        res_1 = self._optimizer.minimize(energy, x0)\n",
    "\n",
    "        # compute first excited states\n",
    "        overlap = lambda x: self._fidelity.run(self._circuit, self._circuit, res_1.x, x)\n",
    "        def objective(x):\n",
    "            value = energy(x) + self._penalty * overlap(x)\n",
    "            if self._callback:\n",
    "                self._callback(value)\n",
    "            return value\n",
    "        res_2 = self._optimizer.minimize(objective, res_1.x)\n",
    "            \n",
    "        # populate results\n",
    "        result = EigensolverResult()\n",
    "        result.eigenvalues = [estimator([self._circuit], [operator], [res_1.x]),\n",
    "                              estimator([self._circuit], [operator], [res_2.x])]\n",
    "        return result        "
   ]
  },
  {
   "cell_type": "code",
   "execution_count": 22,
   "metadata": {
    "scrolled": true,
    "slideshow": {
     "slide_type": "slide"
    }
   },
   "outputs": [
    {
     "name": "stdout",
     "output_type": "stream",
     "text": [
      "{   'aux_operator_eigenvalues': None,\n",
      "    'eigenstates': None,\n",
      "    'eigenvalues': [   EstimatorResult(values=array([-12.91948381]), metadata=[{}]),\n",
      "                       EstimatorResult(values=array([-9.08535856]), metadata=[{}])]}\n"
     ]
    }
   ],
   "source": [
    "vqd = VQD(estimator, fidelity, qc, optimizer=SPSA(maxiter=1000))\n",
    "result = vqd.compute_eigenvalues(H)\n",
    "print(result)"
   ]
  },
  {
   "cell_type": "markdown",
   "metadata": {
    "slideshow": {
     "slide_type": "slide"
    }
   },
   "source": [
    "## And, finally, let's pull everything together and use the Qiskit Runtime Primitives with Sessions."
   ]
  },
  {
   "cell_type": "code",
   "execution_count": 23,
   "metadata": {
    "slideshow": {
     "slide_type": "-"
    }
   },
   "outputs": [],
   "source": [
    "from qiskit_ibm_runtime import (Session, Options, QiskitRuntimeService,\n",
    "                                Sampler as RuntimeSampler, \n",
    "                                Estimator as RuntimeEstimator)"
   ]
  },
  {
   "cell_type": "code",
   "execution_count": 24,
   "metadata": {
    "slideshow": {
     "slide_type": "-"
    }
   },
   "outputs": [],
   "source": [
    "service = QiskitRuntimeService(channel='ibm_quantum')"
   ]
  },
  {
   "cell_type": "code",
   "execution_count": 25,
   "metadata": {
    "slideshow": {
     "slide_type": "-"
    }
   },
   "outputs": [],
   "source": [
    "from qiskit.algorithms.optimizers import COBYLA\n",
    "optimizer = COBYLA(maxiter=400)"
   ]
  },
  {
   "cell_type": "code",
   "execution_count": 26,
   "metadata": {
    "scrolled": true,
    "slideshow": {
     "slide_type": "slide"
    }
   },
   "outputs": [
    {
     "name": "stdout",
     "output_type": "stream",
     "text": [
      "{   'aux_operator_eigenvalues': None,\n",
      "    'eigenstates': None,\n",
      "    'eigenvalues': [   EstimatorResult(values=array([-12.99999998]), metadata=[{}]),\n",
      "                       EstimatorResult(values=array([-8.99999929]), metadata=[{}])]}\n"
     ]
    }
   ],
   "source": [
    "with Session(service=service, backend='ibmq_qasm_simulator') as session:\n",
    "\n",
    "    # prepare primitives\n",
    "    rt_estimator = RuntimeEstimator(session=session)\n",
    "    rt_sampler = RuntimeSampler(session=session)\n",
    "    rt_fidelity = Fidelity(rt_sampler)\n",
    "\n",
    "    # set up algorithm    \n",
    "    rt_vqd = VQD(rt_estimator, rt_fidelity, qc, optimizer)\n",
    "    \n",
    "    # run algorithm\n",
    "    result = rt_vqd.compute_eigenvalues(H)\n",
    "    print(result)    "
   ]
  },
  {
   "cell_type": "code",
   "execution_count": 31,
   "metadata": {
    "slideshow": {
     "slide_type": "skip"
    }
   },
   "outputs": [
    {
     "data": {
      "text/plain": [
       "'0.6.0'"
      ]
     },
     "execution_count": 31,
     "metadata": {},
     "output_type": "execute_result"
    }
   ],
   "source": [
    "import qiskit_ibm_runtime\n",
    "qiskit_ibm_runtime.version.get_version_info()"
   ]
  },
  {
   "cell_type": "code",
   "execution_count": 32,
   "metadata": {
    "slideshow": {
     "slide_type": "skip"
    }
   },
   "outputs": [
    {
     "data": {
      "text/html": [
       "<h3>Version Information</h3><table><tr><th>Qiskit Software</th><th>Version</th></tr><tr><td><code>qiskit-terra</code></td><td>0.21.2</td></tr><tr><td><code>qiskit-aer</code></td><td>0.11.0</td></tr><tr><td><code>qiskit-ibmq-provider</code></td><td>0.19.2</td></tr><tr><td><code>qiskit</code></td><td>0.38.0</td></tr><tr><td><code>qiskit-nature</code></td><td>0.4.4</td></tr><tr><th>System information</th></tr><tr><td>Python version</td><td>3.9.13</td></tr><tr><td>Python compiler</td><td>Clang 12.0.0 </td></tr><tr><td>Python build</td><td>main, Aug 25 2022 18:29:29</td></tr><tr><td>OS</td><td>Darwin</td></tr><tr><td>CPUs</td><td>4</td></tr><tr><td>Memory (Gb)</td><td>32.0</td></tr><tr><td colspan='2'>Sun Sep 18 20:44:35 2022 MDT</td></tr></table>"
      ],
      "text/plain": [
       "<IPython.core.display.HTML object>"
      ]
     },
     "metadata": {},
     "output_type": "display_data"
    },
    {
     "data": {
      "text/html": [
       "<div style='width: 100%; background-color:#d5d9e0;padding-left: 10px; padding-bottom: 10px; padding-right: 10px; padding-top: 5px'><h3>This code is a part of Qiskit</h3><p>&copy; Copyright IBM 2017, 2022.</p><p>This code is licensed under the Apache License, Version 2.0. You may<br>obtain a copy of this license in the LICENSE.txt file in the root directory<br> of this source tree or at http://www.apache.org/licenses/LICENSE-2.0.<p>Any modifications or derivative works of this code must retain this<br>copyright notice, and modified files need to carry a notice indicating<br>that they have been altered from the originals.</p></div>"
      ],
      "text/plain": [
       "<IPython.core.display.HTML object>"
      ]
     },
     "metadata": {},
     "output_type": "display_data"
    }
   ],
   "source": [
    "from qiskit.tools.jupyter import *\n",
    "\n",
    "%qiskit_version_table\n",
    "%qiskit_copyright"
   ]
  }
 ],
 "metadata": {
  "celltoolbar": "Slideshow",
  "kernelspec": {
   "display_name": "Python 3 (ipykernel)",
   "language": "python",
   "name": "python3"
  },
  "language_info": {
   "codemirror_mode": {
    "name": "ipython",
    "version": 3
   },
   "file_extension": ".py",
   "mimetype": "text/x-python",
   "name": "python",
   "nbconvert_exporter": "python",
   "pygments_lexer": "ipython3",
   "version": "3.8.13"
  }
 },
 "nbformat": 4,
 "nbformat_minor": 2
}
